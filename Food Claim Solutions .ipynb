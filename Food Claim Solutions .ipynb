{
 "cells": [
  {
   "cell_type": "markdown",
   "id": "a5b3bc0e-b993-4ee3-bd07-825a474bd0d9",
   "metadata": {
    "tags": []
   },
   "source": [
    "# Data Analyst Associate Practical Exam Submission\n",
    "\n",
    "**You can use any tool that you want to do your analysis and create visualizations. I used Power BI**\n",
    "\n"
   ]
  },
  {
   "cell_type": "markdown",
   "id": "d1b1a012-1ccb-40e7-a1ad-77b60b256690",
   "metadata": {
    "jp-MarkdownHeadingCollapsed": true,
    "tags": []
   },
   "source": [
    "## Task 1\n",
    "For every column in the data:\n",
    "\n",
    "a. State whether the values match the description given in the table above.\n",
    "\n",
    "b. State the number of missing values in the column.\n",
    "\n",
    "c. Describe what you did to make values match the description if they did not\n",
    "match"
   ]
  },
  {
   "cell_type": "markdown",
   "id": "714a7083-7a43-4b0b-8ed4-2675efc87691",
   "metadata": {
    "tags": []
   },
   "source": [
    "For every column in the data, Using Power BI (Power Query)\n",
    "\n",
    "## Claim_id\n",
    "\n",
    "a. The values matched the description.\n",
    "\n",
    "b. There are no missing values in the column.\n",
    "\n",
    "c. To ensure a perfect match with the description, I changed the data type from whole numbers to text. This adjustment successfully aligned the values with the provided description.\n",
    "\n",
    "## Time_to_close\n",
    "\n",
    "a. The values perfectly match the description. The data is discrete and has an integer data type.\n",
    "\n",
    "b. There are no missing values in the column.\n",
    "\n",
    "c. No further action was needed as the values already conformed to the description, and there were no missing values.\n",
    "\n",
    "## Claim_amount\n",
    "\n",
    "a. The values matched the description, but to ensure a perfect fit with the description of continuous data, I needed to change the data type from text to fixed decimal numbers.\n",
    "\n",
    "b. There are no missing values in the column.\n",
    "\n",
    "c. The data type adjustment was made to achieve alignment with the description. No missing values were present, so no further action was required.\n",
    "\n",
    "## Amount_paid \n",
    "\n",
    "a. The column didn't exactly match the description.\n",
    "\n",
    "b. There are 36 missing values in the column.\n",
    "\n",
    "c. To align the column with the description, I converted the data type from text to fixed decimal number. Additionally, I addressed the missing values by filling them in with the overall median of the column.\n",
    "\n",
    "## Location \n",
    "\n",
    "a. The values perfectly matched the description.\n",
    "\n",
    "b. There are no missing values in the column.\n",
    "\n",
    "c. No further action was needed as the values already conformed to the description, and there were no missing values.\n",
    "\n",
    "## Individuals_on_claim \n",
    "\n",
    "a. The column perfectly matches the description.\n",
    "\n",
    "b. There are no missing values in the column.\n",
    "\n",
    "c. No further action was needed as the column already aligned perfectly with the description, and there were no missing values.\n",
    "\n",
    "## Linked_cases \n",
    "\n",
    "a. The column matches the description.\n",
    "\n",
    "b. There are 26 missing values in the column.\n",
    "\n",
    "c. To address the missing values, I filled them with \"false.\" Additionally, I changed the data type to TRUE/FALSE to ensure alignment with the description.\n",
    "\n",
    "## Cause\n",
    "\n",
    "a. The column didn't match the description perfectly due to 2 spelling/capitalization mistakes.\n",
    "\n",
    "b. There are no missing values in the column.\n",
    "\n",
    "c. To rectify the discrepancies, I made the following adjustments:\n",
    "Corrected \"VEGETABLES\" to \"vegetables\" and \"Meat\" to \"meat\" to align with the correct values as described in the instructions.\n"
   ]
  },
  {
   "cell_type": "markdown",
   "id": "643d4c36-4183-4fbe-a263-6b9de60d29da",
   "metadata": {},
   "source": [
    "## Task 2\n",
    "\n",
    "\n",
    "Create a visualization that shows the number of claims in each location. Use the\n",
    "visualization to:\n",
    "\n",
    "a. State which category of the variable location has the most observations\n",
    "\n",
    "b. Explain whether the observations are balanced across categories of the\n",
    "variable location"
   ]
  },
  {
   "cell_type": "markdown",
   "id": "1d5ba38c-1b3a-4f9b-bf38-bb0a62dac346",
   "metadata": {},
   "source": [
    "![Number of claims by location](barchart_2.png)\n",
    "\n",
    "a.\tThe category of the variable \"location\" with the most observations is RECIFE, which has 885 observations.\n",
    "\n",
    "b.\tThe observations are not balanced across categories of the variable \"location.\" In a balanced dataset, each category would have roughly the same number of observations. However, in this case, the observations are skewed towards RECIFE with 885 observations, while the other categories have significantly fewer observations: SAO LUIS with 517 observations, FORTALEZA with 311 observations, and NATAL with 287 observations. This imbalance in the number of observations across categories suggests that the dataset is not evenly distributed among the different locations.\n"
   ]
  },
  {
   "cell_type": "markdown",
   "id": "ce5f6df2-fbf2-4c44-9209-9ee668876b53",
   "metadata": {},
   "source": [
    "## Task 3\n",
    "\n",
    "Describe the distribution of time to close for all claims. Your answer must include a\n",
    "visualization that shows the distribution."
   ]
  },
  {
   "cell_type": "markdown",
   "id": "8fcff247-db49-42c0-8710-51848aeb6347",
   "metadata": {},
   "source": [
    "The distribution of time taken to close all claims follows a right-skewed pattern. This can be observed from the histogram, which displays a noticeable skew towards the right side. The distribution's mean is calculated to be 186, while the median stands at 179. These values further substantiate the right-skewed nature of the distribution. To provide a comprehensive description of the distribution, refer to the visualization below, which clearly illustrates this pattern:\n",
    "\n",
    "![The distribution of time taken to close all claims](histtogram_3.png)\n"
   ]
  },
  {
   "cell_type": "markdown",
   "id": "c5fbe3a0-d277-437c-a1a0-f1edf80684f7",
   "metadata": {},
   "source": [
    "## Task 4\n",
    "\n",
    "Describe the relationship between time to close and location. Your answer must include a visualization to demonstrate the relationship."
   ]
  },
  {
   "cell_type": "markdown",
   "id": "170dd2ea-340f-4ab4-94c8-fe077342e98e",
   "metadata": {},
   "source": [
    "![Realationship between Time to close and location(scatter plot)](scatterplot_4.png)\n",
    "\n",
    "The analysis indicates that there is no discernible relationship or correlation between the time taken to close claims and their respective locations. The time it takes to close claims doesn't seem to be affected by where the claims are located. In simple terms, whether a claim is in one place or another doesn't make a big difference in how long it takes to settle it.\n",
    "\n",
    "This lack of correlation can be visually demonstrated through the box plot displayed below. In this plot, each location is represented on the x-axis, and the corresponding distribution of time to close claims is depicted on the y-axis. The boxes are pretty similar in height and width, which means there's no clear pattern showing that location affects how quickly claims are closed.\n",
    "\n",
    "![Realationship between Time to close and location(box plot)](boxplot_4.png)"
   ]
  },
  {
   "cell_type": "markdown",
   "id": "f635131a-00f8-44dd-b610-509db41c1154",
   "metadata": {
    "tags": []
   },
   "source": []
  }
 ],
 "metadata": {
  "colab": {
   "name": "Welcome to DataCamp Workspaces.ipynb",
   "provenance": []
  },
  "kernelspec": {
   "display_name": "Python 3 (ipykernel)",
   "language": "python",
   "name": "python3"
  },
  "language_info": {
   "codemirror_mode": {
    "name": "ipython",
    "version": 3
   },
   "file_extension": ".py",
   "mimetype": "text/x-python",
   "name": "python",
   "nbconvert_exporter": "python",
   "pygments_lexer": "ipython3",
   "version": "3.11.7"
  }
 },
 "nbformat": 4,
 "nbformat_minor": 5
}
